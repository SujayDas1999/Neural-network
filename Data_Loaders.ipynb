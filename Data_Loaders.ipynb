{
  "nbformat": 4,
  "nbformat_minor": 0,
  "metadata": {
    "colab": {
      "provenance": [],
      "gpuType": "T4",
      "authorship_tag": "ABX9TyOSmaAFVP5wHYa2L0u4MfH7",
      "include_colab_link": true
    },
    "kernelspec": {
      "name": "python3",
      "display_name": "Python 3"
    },
    "language_info": {
      "name": "python"
    },
    "accelerator": "GPU"
  },
  "cells": [
    {
      "cell_type": "markdown",
      "metadata": {
        "id": "view-in-github",
        "colab_type": "text"
      },
      "source": [
        "<a href=\"https://colab.research.google.com/github/SujayDas1999/Neural-network/blob/main/Data_Loaders.ipynb\" target=\"_parent\"><img src=\"https://colab.research.google.com/assets/colab-badge.svg\" alt=\"Open In Colab\"/></a>"
      ]
    },
    {
      "cell_type": "code",
      "execution_count": 124,
      "metadata": {
        "id": "jiSriRdWuAiW"
      },
      "outputs": [],
      "source": [
        "import torch\n",
        "import torch.nn as nn\n",
        "import torch.nn.functional as F\n",
        "import numpy as np\n",
        "import matplotlib.pyplot as plt\n",
        "from sklearn.model_selection import train_test_split\n",
        "\n",
        "from torch.utils.data import DataLoader,TensorDataset"
      ]
    },
    {
      "cell_type": "code",
      "source": [
        "import seaborn as sns\n",
        "iris = sns.load_dataset('iris')\n",
        "\n",
        "data = torch.tensor(iris[iris.columns[0:4]].values).float()\n",
        "labels = torch.zeros(len(data))\n",
        "\n",
        "labels[iris.species=='versicolor'] = 1\n",
        "labels[iris.species=='virginica'] = 2"
      ],
      "metadata": {
        "id": "LYK8RxEu0TMU"
      },
      "execution_count": 182,
      "outputs": []
    },
    {
      "cell_type": "code",
      "source": [
        "class Model(nn.Module):\n",
        "  def __init__(self,in_feature=4,hl1=64,hl2=64,out=3):\n",
        "    super().__init__()\n",
        "    self.input = nn.Linear(in_feature,hl1)\n",
        "    self.layer1 = nn.Linear(hl1,hl2)\n",
        "    self.out = nn.Linear(hl2,out)\n",
        "\n",
        "  def forward(self,x):\n",
        "    x = F.relu(self.input(x))\n",
        "    x = F.relu(self.layer1(x))\n",
        "    x = self.out(x)\n",
        "    return x\n"
      ],
      "metadata": {
        "id": "uvksyWDiBd64"
      },
      "execution_count": 183,
      "outputs": []
    },
    {
      "cell_type": "code",
      "source": [
        "fakedata = np.tile(np.array([1,2,3,4]), (10,1)) + np.tile(10*np.arange(1,11),(4,1)).T\n",
        "fakelabels = np.arange(10)>4\n",
        "print(fakedata)\n",
        "print(' ')\n",
        "print(fakelabels)"
      ],
      "metadata": {
        "colab": {
          "base_uri": "https://localhost:8080/"
        },
        "id": "iKcsrL1y0tLP",
        "outputId": "84cb211d-2161-4bc5-aa13-56e46c520d3e"
      },
      "execution_count": 127,
      "outputs": [
        {
          "output_type": "stream",
          "name": "stdout",
          "text": [
            "[[ 11  12  13  14]\n",
            " [ 21  22  23  24]\n",
            " [ 31  32  33  34]\n",
            " [ 41  42  43  44]\n",
            " [ 51  52  53  54]\n",
            " [ 61  62  63  64]\n",
            " [ 71  72  73  74]\n",
            " [ 81  82  83  84]\n",
            " [ 91  92  93  94]\n",
            " [101 102 103 104]]\n",
            " \n",
            "[False False False False False  True  True  True  True  True]\n"
          ]
        }
      ]
    },
    {
      "cell_type": "code",
      "source": [
        "fakedataLdr = DataLoader(fakedata, shuffle=True)\n",
        "print(fakedataLdr)\n",
        "print(fakedataLdr.batch_size)"
      ],
      "metadata": {
        "colab": {
          "base_uri": "https://localhost:8080/"
        },
        "id": "_Bqp-M8w1JiJ",
        "outputId": "e4cd207a-7a03-4113-e78d-1fb74358a7b5"
      },
      "execution_count": 128,
      "outputs": [
        {
          "output_type": "stream",
          "name": "stdout",
          "text": [
            "<torch.utils.data.dataloader.DataLoader object at 0x782ddd6fe5a0>\n",
            "1\n"
          ]
        }
      ]
    },
    {
      "cell_type": "code",
      "source": [
        "for i, oneSample in enumerate(fakedataLdr):\n",
        "  print(i,oneSample,oneSample.shape)"
      ],
      "metadata": {
        "colab": {
          "base_uri": "https://localhost:8080/"
        },
        "id": "2vkSzLqs1RU6",
        "outputId": "f415be7f-5395-4f3f-d1c8-c9df45f14b4a"
      },
      "execution_count": 129,
      "outputs": [
        {
          "output_type": "stream",
          "name": "stdout",
          "text": [
            "0 tensor([[51, 52, 53, 54]]) torch.Size([1, 4])\n",
            "1 tensor([[91, 92, 93, 94]]) torch.Size([1, 4])\n",
            "2 tensor([[81, 82, 83, 84]]) torch.Size([1, 4])\n",
            "3 tensor([[61, 62, 63, 64]]) torch.Size([1, 4])\n",
            "4 tensor([[71, 72, 73, 74]]) torch.Size([1, 4])\n",
            "5 tensor([[31, 32, 33, 34]]) torch.Size([1, 4])\n",
            "6 tensor([[11, 12, 13, 14]]) torch.Size([1, 4])\n",
            "7 tensor([[21, 22, 23, 24]]) torch.Size([1, 4])\n",
            "8 tensor([[41, 42, 43, 44]]) torch.Size([1, 4])\n",
            "9 tensor([[101, 102, 103, 104]]) torch.Size([1, 4])\n"
          ]
        }
      ]
    },
    {
      "cell_type": "code",
      "source": [
        "fakeDatasetTorch = TensorDataset(\n",
        "    torch.Tensor(fakedata),\n",
        "    torch.Tensor(fakelabels)\n",
        ")\n",
        "\n",
        "fakeDatasetTorch.tensors"
      ],
      "metadata": {
        "colab": {
          "base_uri": "https://localhost:8080/"
        },
        "id": "MxlcjeeP1iMA",
        "outputId": "91d97914-5420-4ee8-9e2f-08c3ef7fb508"
      },
      "execution_count": 130,
      "outputs": [
        {
          "output_type": "execute_result",
          "data": {
            "text/plain": [
              "(tensor([[ 11.,  12.,  13.,  14.],\n",
              "         [ 21.,  22.,  23.,  24.],\n",
              "         [ 31.,  32.,  33.,  34.],\n",
              "         [ 41.,  42.,  43.,  44.],\n",
              "         [ 51.,  52.,  53.,  54.],\n",
              "         [ 61.,  62.,  63.,  64.],\n",
              "         [ 71.,  72.,  73.,  74.],\n",
              "         [ 81.,  82.,  83.,  84.],\n",
              "         [ 91.,  92.,  93.,  94.],\n",
              "         [101., 102., 103., 104.]]),\n",
              " tensor([0., 0., 0., 0., 0., 1., 1., 1., 1., 1.]))"
            ]
          },
          "metadata": {},
          "execution_count": 130
        }
      ]
    },
    {
      "cell_type": "code",
      "source": [
        "fakedataLdr = DataLoader(fakeDatasetTorch, shuffle=True)\n",
        "\n",
        "for dat,lab in fakedataLdr:\n",
        "  print(dat,lab)"
      ],
      "metadata": {
        "colab": {
          "base_uri": "https://localhost:8080/"
        },
        "id": "DC6QMOjj2EYC",
        "outputId": "11841e3b-f757-4676-f7e2-48796163960b"
      },
      "execution_count": 131,
      "outputs": [
        {
          "output_type": "stream",
          "name": "stdout",
          "text": [
            "tensor([[21., 22., 23., 24.]]) tensor([0.])\n",
            "tensor([[31., 32., 33., 34.]]) tensor([0.])\n",
            "tensor([[71., 72., 73., 74.]]) tensor([1.])\n",
            "tensor([[41., 42., 43., 44.]]) tensor([0.])\n",
            "tensor([[91., 92., 93., 94.]]) tensor([1.])\n",
            "tensor([[101., 102., 103., 104.]]) tensor([1.])\n",
            "tensor([[11., 12., 13., 14.]]) tensor([0.])\n",
            "tensor([[61., 62., 63., 64.]]) tensor([1.])\n",
            "tensor([[81., 82., 83., 84.]]) tensor([1.])\n",
            "tensor([[51., 52., 53., 54.]]) tensor([0.])\n"
          ]
        }
      ]
    },
    {
      "cell_type": "code",
      "source": [
        "train_data, test_data, train_label, test_label = train_test_split(\n",
        "    fakedata,\n",
        "    fakelabels,\n",
        "    test_size =.2\n",
        ")\n",
        "\n",
        "train_data = TensorDataset(\n",
        "    torch.Tensor(train_data),\n",
        "    torch.Tensor(train_label)\n",
        ")\n",
        "\n",
        "test_data = TensorDataset(\n",
        "    torch.Tensor(test_data),\n",
        "    torch.Tensor(test_label)\n",
        ")\n",
        "\n",
        "train_loader = DataLoader(train_data,batch_size=4)\n",
        "test_loader = DataLoader(test_data)"
      ],
      "metadata": {
        "id": "emrNcyIg2ZbS"
      },
      "execution_count": 132,
      "outputs": []
    },
    {
      "cell_type": "code",
      "source": [
        "for dat, lab in train_loader:\n",
        "  print(dat)"
      ],
      "metadata": {
        "colab": {
          "base_uri": "https://localhost:8080/"
        },
        "id": "rT5QACRs3Nv6",
        "outputId": "51ed7544-d0d4-47e0-d262-97b8c4a6c1f5"
      },
      "execution_count": 133,
      "outputs": [
        {
          "output_type": "stream",
          "name": "stdout",
          "text": [
            "tensor([[61., 62., 63., 64.],\n",
            "        [71., 72., 73., 74.],\n",
            "        [91., 92., 93., 94.],\n",
            "        [51., 52., 53., 54.]])\n",
            "tensor([[ 81.,  82.,  83.,  84.],\n",
            "        [ 41.,  42.,  43.,  44.],\n",
            "        [101., 102., 103., 104.],\n",
            "        [ 11.,  12.,  13.,  14.]])\n"
          ]
        }
      ]
    },
    {
      "cell_type": "code",
      "source": [
        "# Back to real data!\n",
        "x_train_data, test_data, train_label, test_label = train_test_split(\n",
        "    data,\n",
        "    labels,\n",
        "    train_size=.8\n",
        ")\n",
        "\n",
        "train_data = TensorDataset(\n",
        "    x_train_data,\n",
        "    train_label,\n",
        ")\n",
        "\n",
        "test_data = TensorDataset(\n",
        "    test_data,\n",
        "    test_label\n",
        ")\n",
        "\n",
        "\n",
        "train_data = DataLoader(train_data,shuffle=True,batch_size=12)\n",
        "test_data = DataLoader(test_data)\n"
      ],
      "metadata": {
        "id": "DOUZ6A2-3Oiy"
      },
      "execution_count": 184,
      "outputs": []
    },
    {
      "cell_type": "code",
      "source": [
        "ANN = nn.Sequential(\n",
        "    nn.Linear(4,4),\n",
        "    nn.ReLU(),\n",
        "    nn.Linear(4,32),\n",
        "    nn.ReLU(),\n",
        "    nn.Linear(32,3)\n",
        ")"
      ],
      "metadata": {
        "id": "r8Uzvjdc_5xW"
      },
      "execution_count": 185,
      "outputs": []
    },
    {
      "cell_type": "code",
      "source": [
        "ANN = Model()"
      ],
      "metadata": {
        "id": "-uhk8CuuBTjQ"
      },
      "execution_count": 175,
      "outputs": []
    },
    {
      "cell_type": "code",
      "source": [
        "list(ANN.parameters())"
      ],
      "metadata": {
        "colab": {
          "base_uri": "https://localhost:8080/"
        },
        "id": "W3hExkgQE2r9",
        "outputId": "d9c5e2e7-2442-43bc-a37f-9d9922c08424"
      },
      "execution_count": 186,
      "outputs": [
        {
          "output_type": "execute_result",
          "data": {
            "text/plain": [
              "[Parameter containing:\n",
              " tensor([[ 0.4786, -0.1520,  0.0274,  0.3991],\n",
              "         [ 0.3623,  0.1312, -0.0472, -0.1617],\n",
              "         [-0.0066, -0.3352,  0.0293, -0.1045],\n",
              "         [ 0.3688,  0.4726, -0.0076, -0.1703]], requires_grad=True),\n",
              " Parameter containing:\n",
              " tensor([ 0.4630, -0.4498,  0.1418,  0.4350], requires_grad=True),\n",
              " Parameter containing:\n",
              " tensor([[ 0.4282,  0.4714, -0.1487,  0.1959],\n",
              "         [ 0.3407,  0.2080, -0.4172,  0.2987],\n",
              "         [-0.0046,  0.2024, -0.2231, -0.1391],\n",
              "         [-0.2562, -0.2216,  0.1117, -0.0894],\n",
              "         [-0.2594,  0.2935, -0.4548, -0.4462],\n",
              "         [-0.3045, -0.4570, -0.2002, -0.4840],\n",
              "         [ 0.4087, -0.2305, -0.4073,  0.0464],\n",
              "         [-0.3957,  0.0145,  0.1622, -0.4243],\n",
              "         [ 0.0190,  0.2863, -0.1755, -0.0005],\n",
              "         [-0.1335,  0.0709, -0.3474,  0.1394],\n",
              "         [-0.2548,  0.4053, -0.0121, -0.0499],\n",
              "         [ 0.3897, -0.1622, -0.1416,  0.1665],\n",
              "         [-0.4642, -0.0819, -0.3570, -0.4159],\n",
              "         [-0.2843, -0.1685,  0.1692,  0.2670],\n",
              "         [-0.3369,  0.0126,  0.2244,  0.2389],\n",
              "         [ 0.1548, -0.1903,  0.0554, -0.2447],\n",
              "         [-0.3485, -0.2484,  0.2082, -0.2485],\n",
              "         [-0.4142, -0.1194, -0.1920, -0.4912],\n",
              "         [ 0.4448, -0.0023,  0.4726,  0.3619],\n",
              "         [ 0.0409, -0.1945,  0.1039, -0.4653],\n",
              "         [-0.2107,  0.2288, -0.4662, -0.2861],\n",
              "         [-0.3317, -0.2783,  0.0610,  0.4542],\n",
              "         [ 0.1939,  0.3729,  0.4007,  0.4500],\n",
              "         [-0.4135, -0.3169,  0.4449, -0.1672],\n",
              "         [-0.2487,  0.4772, -0.0135,  0.3192],\n",
              "         [-0.4195,  0.4850, -0.0064,  0.4613],\n",
              "         [ 0.4815,  0.2459, -0.4410, -0.3276],\n",
              "         [-0.1682,  0.4799,  0.4362, -0.1105],\n",
              "         [-0.3710, -0.2563,  0.1877, -0.3749],\n",
              "         [ 0.1052, -0.4692,  0.3835, -0.3334],\n",
              "         [-0.4145, -0.0527, -0.1359, -0.0715],\n",
              "         [ 0.2529,  0.1915, -0.4580,  0.0894]], requires_grad=True),\n",
              " Parameter containing:\n",
              " tensor([ 0.3231,  0.0087,  0.4158, -0.1718, -0.4753,  0.1879,  0.2308, -0.3854,\n",
              "         -0.3744,  0.2813,  0.3106,  0.1703, -0.0839, -0.0368,  0.0411,  0.2341,\n",
              "         -0.1028,  0.2213,  0.3025,  0.4948, -0.2041, -0.4633,  0.1826, -0.0264,\n",
              "         -0.1779, -0.3975,  0.2012,  0.3829,  0.3147, -0.3906,  0.2967, -0.2502],\n",
              "        requires_grad=True),\n",
              " Parameter containing:\n",
              " tensor([[ 0.0886,  0.0197,  0.1351, -0.0454, -0.0005, -0.0229, -0.1514, -0.1761,\n",
              "           0.1500,  0.0565,  0.1489,  0.0274,  0.0581,  0.0493, -0.1707, -0.1563,\n",
              "           0.0392, -0.0306,  0.1616, -0.0987,  0.1387, -0.0353,  0.0930, -0.0369,\n",
              "           0.0173,  0.0151, -0.1323, -0.0100,  0.1601, -0.1010, -0.0178, -0.0485],\n",
              "         [-0.0339,  0.0012,  0.1316,  0.0472,  0.1438, -0.0723, -0.1292,  0.0741,\n",
              "           0.0503,  0.1210,  0.1249, -0.0277, -0.1715,  0.0815,  0.1007, -0.0677,\n",
              "          -0.0490, -0.0301,  0.1710,  0.0985, -0.1376,  0.1149,  0.1640, -0.0659,\n",
              "           0.1041,  0.1353, -0.1761, -0.1242,  0.0537,  0.1347,  0.1586,  0.0441],\n",
              "         [-0.0891,  0.1313,  0.0699, -0.1440,  0.0860, -0.0270, -0.0975,  0.0640,\n",
              "           0.0653,  0.0427,  0.0448,  0.1670, -0.0310, -0.0052,  0.0347, -0.1642,\n",
              "          -0.0051,  0.0267, -0.1427,  0.0361,  0.0545, -0.0540,  0.0468, -0.0431,\n",
              "           0.0684,  0.0973, -0.0814,  0.0872,  0.0299,  0.0324,  0.1384, -0.1742]],\n",
              "        requires_grad=True),\n",
              " Parameter containing:\n",
              " tensor([-0.0776, -0.0623,  0.1401], requires_grad=True)]"
            ]
          },
          "metadata": {},
          "execution_count": 186
        }
      ]
    },
    {
      "cell_type": "code",
      "source": [
        "loss_function = nn.CrossEntropyLoss()\n",
        "optimizer = torch.optim.SGD(ANN.parameters(),lr=.01)\n",
        "epochs = 500\n",
        "losses = torch.zeros(epochs)\n",
        "accuracies = []\n",
        "for epochi in range(epochs):\n",
        "  for data,label in train_data:\n",
        "    yHat = ANN.forward(data)\n",
        "    loss = loss_function(yHat,label.long())\n",
        "    losses[epochi] = loss\n",
        "\n",
        "    optimizer.zero_grad()\n",
        "    loss.backward()\n",
        "    optimizer.step()\n",
        "\n",
        "    matches = torch.argmax(yHat,axis=1) == label\n",
        "    accuracy = 100 * torch.mean((matches).float())\n",
        "    accuracies.append(accuracy)\n",
        "\n"
      ],
      "metadata": {
        "id": "oBc5XaoSFQs4"
      },
      "execution_count": 187,
      "outputs": []
    },
    {
      "cell_type": "code",
      "source": [
        "plt.plot(losses.detach())"
      ],
      "metadata": {
        "colab": {
          "base_uri": "https://localhost:8080/",
          "height": 447
        },
        "id": "K-vD74bdKorx",
        "outputId": "c329b909-70fa-4059-cdf6-cbcb49fc90c7"
      },
      "execution_count": 188,
      "outputs": [
        {
          "output_type": "execute_result",
          "data": {
            "text/plain": [
              "[<matplotlib.lines.Line2D at 0x782ddd114740>]"
            ]
          },
          "metadata": {},
          "execution_count": 188
        },
        {
          "output_type": "display_data",
          "data": {
            "text/plain": [
              "<Figure size 640x480 with 1 Axes>"
            ],
            "image/png": "[encoded data removed]"
          },
          "metadata": {}
        }
      ]
    },
    {
      "cell_type": "code",
      "source": [
        "final_loss = []\n",
        "correct_pred = []\n",
        "with torch.no_grad():\n",
        "  for data,label in test_data:\n",
        "    yHat = ANN(data)\n",
        "    loss = loss_function(yHat,label.long())\n",
        "    prediction = torch.argmax(yHat,axis=1) == label\n",
        "    correct_pred.append(prediction.item())"
      ],
      "metadata": {
        "id": "Q8ruqtbbF-PU"
      },
      "execution_count": 189,
      "outputs": []
    },
    {
      "cell_type": "code",
      "source": [
        "total_sum = sum(correct_pred)\n",
        "acc = 100 * (total_sum/len(correct_pred))"
      ],
      "metadata": {
        "id": "hrkDfDmXHXRm"
      },
      "execution_count": 190,
      "outputs": []
    },
    {
      "cell_type": "code",
      "source": [
        "acc"
      ],
      "metadata": {
        "colab": {
          "base_uri": "https://localhost:8080/"
        },
        "id": "bTS9CoaALRpf",
        "outputId": "2ca56d9b-d666-448e-ce28-571aefcaca15"
      },
      "execution_count": 191,
      "outputs": [
        {
          "output_type": "execute_result",
          "data": {
            "text/plain": [
              "93.33333333333333"
            ]
          },
          "metadata": {},
          "execution_count": 191
        }
      ]
    },
    {
      "cell_type": "markdown",
      "source": [
        "Udemy Code"
      ],
      "metadata": {
        "id": "hyfhUcwrP30C"
      }
    },
    {
      "cell_type": "code",
      "source": [
        "import seaborn as sns\n",
        "iris = sns.load_dataset('iris')\n",
        "\n",
        "data = torch.tensor(iris[iris.columns[0:4]].values).float()\n",
        "labels = torch.zeros(len(data))\n",
        "\n",
        "labels[iris.species=='versicolor'] = 1\n",
        "labels[iris.species=='virginica'] = 2"
      ],
      "metadata": {
        "id": "LLu7d4euRrZE"
      },
      "execution_count": 163,
      "outputs": []
    },
    {
      "cell_type": "code",
      "source": [
        "# use scikitlearn to split the data\n",
        "train_data,test_data, train_labels,test_labels = \\\n",
        "                              train_test_split(data, labels, train_size=.8)\n",
        "\n",
        "\n",
        "# then convert them into PyTorch Datasets (note: already converted to tensors)\n",
        "train_data = torch.utils.data.TensorDataset(train_data,train_labels)\n",
        "test_data  = torch.utils.data.TensorDataset(test_data,test_labels)\n",
        "\n",
        "\n",
        "# finally, translate into dataloader objects\n",
        "train_loader = DataLoader(train_data,shuffle=True,batch_size=12)\n",
        "test_loader  = DataLoader(test_data,batch_size=test_data.tensors[0].shape[0])"
      ],
      "metadata": {
        "id": "yOh1aPyEL_P-"
      },
      "execution_count": 164,
      "outputs": []
    },
    {
      "cell_type": "code",
      "source": [
        "\n",
        "# check sizes of data batches\n",
        "for X,y in train_loader:\n",
        "  print(X.shape,y.shape)\n",
        "\n",
        "X,y"
      ],
      "metadata": {
        "colab": {
          "base_uri": "https://localhost:8080/"
        },
        "id": "l2u3xm1OP-6T",
        "outputId": "dd44c3fe-7517-4b66-8ca5-4dd139b65770"
      },
      "execution_count": 165,
      "outputs": [
        {
          "output_type": "stream",
          "name": "stdout",
          "text": [
            "torch.Size([12, 4]) torch.Size([12])\n",
            "torch.Size([12, 4]) torch.Size([12])\n",
            "torch.Size([12, 4]) torch.Size([12])\n",
            "torch.Size([12, 4]) torch.Size([12])\n",
            "torch.Size([12, 4]) torch.Size([12])\n",
            "torch.Size([12, 4]) torch.Size([12])\n",
            "torch.Size([12, 4]) torch.Size([12])\n",
            "torch.Size([12, 4]) torch.Size([12])\n",
            "torch.Size([12, 4]) torch.Size([12])\n",
            "torch.Size([12, 4]) torch.Size([12])\n"
          ]
        },
        {
          "output_type": "execute_result",
          "data": {
            "text/plain": [
              "(tensor([[5.0000, 3.4000, 1.5000, 0.2000],\n",
              "         [6.7000, 3.3000, 5.7000, 2.1000],\n",
              "         [6.1000, 2.9000, 4.7000, 1.4000],\n",
              "         [7.6000, 3.0000, 6.6000, 2.1000],\n",
              "         [4.8000, 3.4000, 1.9000, 0.2000],\n",
              "         [5.0000, 3.6000, 1.4000, 0.2000],\n",
              "         [4.9000, 2.4000, 3.3000, 1.0000],\n",
              "         [6.1000, 2.8000, 4.7000, 1.2000],\n",
              "         [6.5000, 2.8000, 4.6000, 1.5000],\n",
              "         [6.0000, 2.9000, 4.5000, 1.5000],\n",
              "         [6.3000, 2.9000, 5.6000, 1.8000],\n",
              "         [5.0000, 3.2000, 1.2000, 0.2000]]),\n",
              " tensor([0., 2., 1., 2., 0., 0., 1., 1., 1., 1., 2., 0.]))"
            ]
          },
          "metadata": {},
          "execution_count": 165
        }
      ]
    },
    {
      "cell_type": "code",
      "source": [
        "def createANewModel():\n",
        "\n",
        "  # model architecture\n",
        "  ANNiris = nn.Sequential(\n",
        "      nn.Linear(4,64),   # input layer\n",
        "      nn.ReLU(),         # activation unit\n",
        "      nn.Linear(64,64),  # hidden layer\n",
        "      nn.ReLU(),         # activation unit\n",
        "      nn.Linear(64,3),   # output units\n",
        "        )\n",
        "\n",
        "  # loss function\n",
        "  lossfun = nn.CrossEntropyLoss()\n",
        "\n",
        "  # optimizer\n",
        "  optimizer = torch.optim.SGD(ANNiris.parameters(),lr=.01)\n",
        "\n",
        "  return ANNiris,lossfun,optimizer"
      ],
      "metadata": {
        "id": "SXBe-R76QAHi"
      },
      "execution_count": 166,
      "outputs": []
    },
    {
      "cell_type": "code",
      "source": [
        "\n",
        "# train the model\n",
        "\n",
        "# global parameter\n",
        "numepochs = 500\n",
        "losses = torch.zeros(numepochs)\n",
        "def trainTheModel():\n",
        "\n",
        "  # initialize accuracies as empties (not storing losses here)\n",
        "  trainAcc = []\n",
        "  testAcc  = []\n",
        "\n",
        "  # loop over epochs\n",
        "  for epochi in range(numepochs):\n",
        "\n",
        "\n",
        "    # loop over training data batches\n",
        "    batchAcc = []\n",
        "    for X,y in train_loader:\n",
        "\n",
        "      # forward pass and loss\n",
        "      yHat = ANNiris(X)\n",
        "      loss = lossfun(yHat,y.long())\n",
        "      losses[epochi] = loss\n",
        "      # backprop\n",
        "      optimizer.zero_grad()\n",
        "      loss.backward()\n",
        "      optimizer.step()\n",
        "\n",
        "      # compute training accuracy just for this batch\n",
        "      batchAcc.append( 100*torch.mean((torch.argmax(yHat,axis=1) == y).float()).item() )\n",
        "    # end of batch loop...\n",
        "\n",
        "\n",
        "    # now that we've trained through the batches, get their average training accuracy\n",
        "    trainAcc.append( np.mean(batchAcc) )\n",
        "\n",
        "    # test accuracy\n",
        "    X,y = next(iter(test_loader)) # extract X,y from test dataloader\n",
        "    predlabels = torch.argmax( ANNiris(X),axis=1 )\n",
        "    testAcc.append( 100*torch.mean((predlabels == y).float()).item() )\n",
        "\n",
        "  # function output\n",
        "  return trainAcc,testAcc"
      ],
      "metadata": {
        "id": "e6eIgr-nQDGb"
      },
      "execution_count": 167,
      "outputs": []
    },
    {
      "cell_type": "code",
      "source": [
        "# create a model\n",
        "ANNiris,lossfun,optimizer = createANewModel()\n",
        "\n",
        "# train the model\n",
        "trainAcc,testAcc = trainTheModel()"
      ],
      "metadata": {
        "id": "uybMKiC_QE5T"
      },
      "execution_count": 168,
      "outputs": []
    },
    {
      "cell_type": "code",
      "source": [
        "plt.plot(losses.detach())"
      ],
      "metadata": {
        "colab": {
          "base_uri": "https://localhost:8080/",
          "height": 451
        },
        "id": "3TgpajLmRG4m",
        "outputId": "34e2dd10-936f-4814-b5db-56fc6e8b467a"
      },
      "execution_count": 169,
      "outputs": [
        {
          "output_type": "execute_result",
          "data": {
            "text/plain": [
              "[<matplotlib.lines.Line2D at 0x782ddd3bd1f0>]"
            ]
          },
          "metadata": {},
          "execution_count": 169
        },
        {
          "output_type": "display_data",
          "data": {
            "text/plain": [
              "<Figure size 640x480 with 1 Axes>"
            ],
            "image/png": "[encoded data removed]"
          },
          "metadata": {}
        }
      ]
    },
    {
      "cell_type": "code",
      "source": [
        "losses"
      ],
      "metadata": {
        "colab": {
          "base_uri": "https://localhost:8080/"
        },
        "id": "XKt71hRyRz2g",
        "outputId": "5795fc84-d33c-47a3-90ab-da81b90ca06c"
      },
      "execution_count": 170,
      "outputs": [
        {
          "output_type": "execute_result",
          "data": {
            "text/plain": [
              "tensor([1.1477, 1.0242, 0.9381, 0.8955, 0.8565, 0.7917, 0.8465, 0.7133, 0.7016,\n",
              "        0.6839, 0.6384, 0.5578, 0.5449, 0.5475, 0.4666, 0.4766, 0.4527, 0.5966,\n",
              "        0.3226, 0.2821, 0.5134, 0.4800, 0.2962, 0.2414, 0.3435, 0.3839, 0.2814,\n",
              "        0.4033, 0.4392, 0.2875, 0.3166, 0.4616, 0.3091, 0.3305, 0.3282, 0.2824,\n",
              "        0.2155, 0.3022, 0.2218, 0.3556, 0.2607, 0.2462, 0.1696, 0.1748, 0.2046,\n",
              "        0.0834, 0.1592, 0.0957, 0.2203, 0.1729, 0.1281, 0.1053, 0.1271, 0.1089,\n",
              "        0.3392, 0.3755, 0.2257, 0.1090, 0.2159, 0.3953, 0.3216, 0.1925, 0.1734,\n",
              "        0.1512, 0.1330, 0.0927, 0.1189, 0.1951, 0.1269, 0.1394, 0.1084, 0.0542,\n",
              "        0.2151, 0.0466, 0.1132, 0.3278, 0.1322, 0.0456, 0.1326, 0.1691, 0.0365,\n",
              "        0.1308, 0.1032, 0.2589, 0.0471, 0.2690, 0.0543, 0.0475, 0.2396, 0.1159,\n",
              "        0.0535, 0.1004, 0.0950, 0.2872, 0.0618, 0.0786, 0.0883, 0.0521, 0.0234,\n",
              "        0.0585, 0.2052, 0.0682, 0.0645, 0.0498, 0.1229, 0.0931, 0.2857, 0.2573,\n",
              "        0.0681, 0.0834, 0.0886, 0.0528, 0.3061, 0.0659, 0.2846, 0.1024, 0.0593,\n",
              "        0.2971, 0.2378, 0.0664, 0.0285, 0.2712, 0.0603, 0.0400, 0.0378, 0.2500,\n",
              "        0.0619, 0.0943, 0.0472, 0.0388, 0.0220, 0.2579, 0.0619, 0.0539, 0.0606,\n",
              "        0.0097, 0.2411, 0.2020, 0.1064, 0.0582, 0.1185, 0.0850, 0.1072, 0.0832,\n",
              "        0.1100, 0.0148, 0.0540, 0.3043, 0.0075, 0.1240, 0.0244, 0.0344, 0.0549,\n",
              "        0.0571, 0.0190, 0.0521, 0.0229, 0.0586, 0.0230, 0.0143, 0.2177, 0.0411,\n",
              "        0.0930, 0.0514, 0.0783, 0.0075, 0.0082, 0.1203, 0.0059, 0.0656, 0.0258,\n",
              "        0.1266, 0.0229, 0.3694, 0.0284, 0.0411, 0.0191, 0.0491, 0.1033, 0.0417,\n",
              "        0.3184, 0.0639, 0.0672, 0.0457, 0.0807, 0.0572, 0.0815, 0.0226, 0.0359,\n",
              "        0.0371, 0.0466, 0.1196, 0.0894, 0.0504, 0.0163, 0.1338, 0.0351, 0.0919,\n",
              "        0.0067, 0.0346, 0.0328, 0.0372, 0.0293, 0.0431, 0.0698, 0.0357, 0.1095,\n",
              "        0.3743, 0.0519, 0.0290, 0.0136, 0.0616, 0.0955, 0.0369, 0.3708, 0.0221,\n",
              "        0.0158, 0.0093, 0.4041, 0.0154, 0.0041, 0.3102, 0.0357, 0.0094, 0.0810,\n",
              "        0.0095, 0.0406, 0.0573, 0.1018, 0.2493, 0.0329, 0.0057, 0.0246, 0.0209,\n",
              "        0.0715, 0.3234, 0.0371, 0.0323, 0.0156, 0.0144, 0.0146, 0.3264, 0.0551,\n",
              "        0.0148, 0.0286, 0.0204, 0.0426, 0.0198, 0.0110, 0.0999, 0.0355, 0.0731,\n",
              "        0.0639, 0.0229, 0.0215, 0.0165, 0.3106, 0.0247, 0.0327, 0.0202, 0.0726,\n",
              "        0.2603, 0.0150, 0.0078, 0.0056, 0.0441, 0.0382, 0.0503, 0.0112, 0.0269,\n",
              "        0.0352, 0.3632, 0.0383, 0.0126, 0.0494, 0.3136, 0.0671, 0.0035, 0.0382,\n",
              "        0.0414, 0.3000, 0.0545, 0.3625, 0.0214, 0.0157, 0.0048, 0.0374, 0.0451,\n",
              "        0.0422, 0.0512, 0.0111, 0.1067, 0.1543, 0.3738, 0.0464, 0.3670, 0.0139,\n",
              "        0.0178, 0.2508, 0.0326, 0.0197, 0.0093, 0.1065, 0.1187, 0.0161, 0.1013,\n",
              "        0.0128, 0.0323, 0.0125, 0.0328, 0.0273, 0.0126, 0.0723, 0.3517, 0.0249,\n",
              "        0.0942, 0.0045, 0.0013, 0.0178, 0.3669, 0.0263, 0.0173, 0.0441, 0.0533,\n",
              "        0.0122, 0.0237, 0.0412, 0.3015, 0.0095, 0.0611, 0.0193, 0.0200, 0.0491,\n",
              "        0.0618, 0.0438, 0.0353, 0.0584, 0.0116, 0.0358, 0.0678, 0.0348, 0.0145,\n",
              "        0.0290, 0.0450, 0.1560, 0.0152, 0.0376, 0.0523, 0.0282, 0.0518, 0.0232,\n",
              "        0.0710, 0.0146, 0.0109, 0.0065, 0.0279, 0.2355, 0.0427, 0.0895, 0.0188,\n",
              "        0.0115, 0.0177, 0.0193, 0.0092, 0.0058, 0.0226, 0.3126, 0.0152, 0.0027,\n",
              "        0.0665, 0.0853, 0.0512, 0.0892, 0.3189, 0.0217, 0.3139, 0.0068, 0.0207,\n",
              "        0.0651, 0.0196, 0.0093, 0.0218, 0.0120, 0.0300, 0.0354, 0.0140, 0.3625,\n",
              "        0.0038, 0.0315, 0.0033, 0.0142, 0.0032, 0.0376, 0.0048, 0.0334, 0.0153,\n",
              "        0.0402, 0.0042, 0.0230, 0.0761, 0.0396, 0.0072, 0.0279, 0.3142, 0.0051,\n",
              "        0.1055, 0.0221, 0.3987, 0.0707, 0.0107, 0.0261, 0.0449, 0.0368, 0.3180,\n",
              "        0.0068, 0.3205, 0.0461, 0.0319, 0.0330, 0.0306, 0.0791, 0.3578, 0.0023,\n",
              "        0.0182, 0.0544, 0.0237, 0.0416, 0.0052, 0.3608, 0.0200, 0.0672, 0.0208,\n",
              "        0.0108, 0.0163, 0.0072, 0.0399, 0.0213, 0.0335, 0.0408, 0.0097, 0.0086,\n",
              "        0.0118, 0.0350, 0.0081, 0.0331, 0.1145, 0.3999, 0.0047, 0.0215, 0.0661,\n",
              "        0.0086, 0.0492, 0.0036, 0.0032, 0.0812, 0.0043, 0.1672, 0.3110, 0.0546,\n",
              "        0.0203, 0.0776, 0.3392, 0.0132, 0.0017, 0.0211, 0.0111, 0.0244, 0.0338,\n",
              "        0.0066, 0.0041, 0.0424, 0.0268, 0.0068, 0.0623, 0.0462, 0.0363, 0.0044,\n",
              "        0.0102, 0.0180, 0.0624, 0.0293, 0.0298, 0.0223, 0.0265, 0.0082, 0.0042,\n",
              "        0.0029, 0.0121, 0.0137, 0.0364, 0.0130, 0.4450, 0.3104, 0.0066, 0.0525,\n",
              "        0.0146, 0.0031, 0.3137, 0.0103, 0.0638], grad_fn=<CopySlices>)"
            ]
          },
          "metadata": {},
          "execution_count": 170
        }
      ]
    },
    {
      "cell_type": "code",
      "source": [
        "# plot the results\n",
        "fig = plt.figure(figsize=(10,5))\n",
        "\n",
        "plt.plot(trainAcc,'ro-')\n",
        "plt.plot(testAcc,'bs-')\n",
        "plt.xlabel('Epochs')\n",
        "plt.ylabel('Accuracy (%)')\n",
        "plt.legend(['Train','Test'])\n",
        "\n",
        "# optional zoom-in to final epochs\n",
        "# plt.xlim([300,500])\n",
        "# plt.ylim([90,100.5])\n",
        "\n",
        "plt.show()"
      ],
      "metadata": {
        "colab": {
          "base_uri": "https://localhost:8080/",
          "height": 357
        },
        "id": "jdo-auJuQGp2",
        "outputId": "0dc0572c-4620-4de9-831c-b6e96b9a3ad2"
      },
      "execution_count": 171,
      "outputs": [
        {
          "output_type": "display_data",
          "data": {
            "text/plain": [
              "<Figure size 1000x500 with 1 Axes>"
            ],
            "image/png": "[encoded data removed]"
          },
          "metadata": {}
        }
      ]
    },
    {
      "cell_type": "code",
      "source": [],
      "metadata": {
        "id": "OSYDWvx_QMTu"
      },
      "execution_count": null,
      "outputs": []
    }
  ]
}