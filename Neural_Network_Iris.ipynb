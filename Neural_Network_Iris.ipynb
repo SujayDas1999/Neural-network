{
 "cells": [
  {
   "cell_type": "code",
   "execution_count": 1,
   "id": "77e6be2e-d2b2-47b3-a249-94fb524c3d8a",
   "metadata": {},
   "outputs": [
    {
     "name": "stdout",
     "output_type": "stream",
     "text": [
      "Requirement already satisfied: torch in c:\\users\\dasuj\\anaconda3\\lib\\site-packages (2.8.0)\n",
      "Requirement already satisfied: filelock in c:\\users\\dasuj\\anaconda3\\lib\\site-packages (from torch) (3.17.0)\n",
      "Requirement already satisfied: typing-extensions>=4.10.0 in c:\\users\\dasuj\\anaconda3\\lib\\site-packages (from torch) (4.12.2)\n",
      "Requirement already satisfied: sympy>=1.13.3 in c:\\users\\dasuj\\anaconda3\\lib\\site-packages (from torch) (1.13.3)\n",
      "Requirement already satisfied: networkx in c:\\users\\dasuj\\anaconda3\\lib\\site-packages (from torch) (3.4.2)\n",
      "Requirement already satisfied: jinja2 in c:\\users\\dasuj\\anaconda3\\lib\\site-packages (from torch) (3.1.6)\n",
      "Requirement already satisfied: fsspec in c:\\users\\dasuj\\anaconda3\\lib\\site-packages (from torch) (2025.3.0)\n",
      "Requirement already satisfied: setuptools in c:\\users\\dasuj\\anaconda3\\lib\\site-packages (from torch) (72.1.0)\n",
      "Requirement already satisfied: mpmath<1.4,>=1.1.0 in c:\\users\\dasuj\\anaconda3\\lib\\site-packages (from sympy>=1.13.3->torch) (1.3.0)\n",
      "Requirement already satisfied: MarkupSafe>=2.0 in c:\\users\\dasuj\\anaconda3\\lib\\site-packages (from jinja2->torch) (3.0.2)\n"
     ]
    }
   ],
   "source": [
    "!pip install torch"
   ]
  },
  {
   "cell_type": "code",
   "execution_count": 3,
   "id": "88492342-6905-4f5a-a7ec-74fad21cca3c",
   "metadata": {},
   "outputs": [],
   "source": [
    "import torch\n",
    "import torch.nn as nn\n",
    "import torch.nn.functional as F\n",
    "import matplotlib.pyplot as plt\n",
    "import pandas as pd"
   ]
  },
  {
   "cell_type": "code",
   "execution_count": 4,
   "id": "0b42b307-debe-4082-9e0b-ae58f4812ee2",
   "metadata": {},
   "outputs": [],
   "source": [
    "class Model(nn.Module):\n",
    "    def __init__(self, in_features=4, h1=8, h2=9, out_features=3):\n",
    "        super().__init__()\n",
    "        self.fc1 = nn.Linear(in_features, h1)\n",
    "        self.fc2 = nn.Linear(h1, h2)\n",
    "        self.out = nn.Linear(h2, out_features)\n",
    "        \n",
    "    def forward(self, x):\n",
    "        x = F.relu(self.fc1(x))\n",
    "        x = F.relu(self.fc2(x))\n",
    "        x = self.out(x)\n",
    "        \n",
    "        return x\n",
    "    "
   ]
  },
  {
   "cell_type": "code",
   "execution_count": 5,
   "id": "0ca2d85f-eaec-4ab2-90d7-73227fb8be13",
   "metadata": {},
   "outputs": [
    {
     "data": {
      "text/plain": [
       "<torch._C.Generator at 0x1aaf47a76b0>"
      ]
     },
     "execution_count": 5,
     "metadata": {},
     "output_type": "execute_result"
    }
   ],
   "source": [
    "# Pick manual seed for randomization\n",
    "torch.manual_seed(41)"
   ]
  },
  {
   "cell_type": "code",
   "execution_count": 6,
   "id": "c12320a5-e21c-4df6-9507-868da1ae5ba1",
   "metadata": {},
   "outputs": [],
   "source": [
    "# model instance\n",
    "model = Model()"
   ]
  },
  {
   "cell_type": "code",
   "execution_count": 58,
   "id": "6516a392-79e7-44df-97bd-2286d51769d8",
   "metadata": {},
   "outputs": [
    {
     "data": {
      "text/plain": [
       "'versicolor'"
      ]
     },
     "execution_count": 58,
     "metadata": {},
     "output_type": "execute_result"
    }
   ],
   "source": [
    "url = 'https://gist.githubusercontent.com/curran/a08a1080b88344b0c8a7/raw/0e7a9b0a5d22642a06d3d5b9bcbad9890c8ee534/iris.csv'\n",
    "my_df = pd.read_csv(url)\n",
    "\n",
    "my_df['species'][50]"
   ]
  },
  {
   "cell_type": "code",
   "execution_count": 60,
   "id": "02bce27c-a7a7-4b8e-b788-855de0f37779",
   "metadata": {},
   "outputs": [
    {
     "data": {
      "text/html": [
       "<div>\n",
       "<style scoped>\n",
       "    .dataframe tbody tr th:only-of-type {\n",
       "        vertical-align: middle;\n",
       "    }\n",
       "\n",
       "    .dataframe tbody tr th {\n",
       "        vertical-align: top;\n",
       "    }\n",
       "\n",
       "    .dataframe thead th {\n",
       "        text-align: right;\n",
       "    }\n",
       "</style>\n",
       "<table border=\"1\" class=\"dataframe\">\n",
       "  <thead>\n",
       "    <tr style=\"text-align: right;\">\n",
       "      <th></th>\n",
       "      <th>sepal_length</th>\n",
       "      <th>sepal_width</th>\n",
       "      <th>petal_length</th>\n",
       "      <th>petal_width</th>\n",
       "      <th>species</th>\n",
       "    </tr>\n",
       "  </thead>\n",
       "  <tbody>\n",
       "    <tr>\n",
       "      <th>0</th>\n",
       "      <td>5.1</td>\n",
       "      <td>3.5</td>\n",
       "      <td>1.4</td>\n",
       "      <td>0.2</td>\n",
       "      <td>0</td>\n",
       "    </tr>\n",
       "    <tr>\n",
       "      <th>1</th>\n",
       "      <td>4.9</td>\n",
       "      <td>3.0</td>\n",
       "      <td>1.4</td>\n",
       "      <td>0.2</td>\n",
       "      <td>0</td>\n",
       "    </tr>\n",
       "    <tr>\n",
       "      <th>2</th>\n",
       "      <td>4.7</td>\n",
       "      <td>3.2</td>\n",
       "      <td>1.3</td>\n",
       "      <td>0.2</td>\n",
       "      <td>0</td>\n",
       "    </tr>\n",
       "    <tr>\n",
       "      <th>3</th>\n",
       "      <td>4.6</td>\n",
       "      <td>3.1</td>\n",
       "      <td>1.5</td>\n",
       "      <td>0.2</td>\n",
       "      <td>0</td>\n",
       "    </tr>\n",
       "    <tr>\n",
       "      <th>4</th>\n",
       "      <td>5.0</td>\n",
       "      <td>3.6</td>\n",
       "      <td>1.4</td>\n",
       "      <td>0.2</td>\n",
       "      <td>0</td>\n",
       "    </tr>\n",
       "    <tr>\n",
       "      <th>...</th>\n",
       "      <td>...</td>\n",
       "      <td>...</td>\n",
       "      <td>...</td>\n",
       "      <td>...</td>\n",
       "      <td>...</td>\n",
       "    </tr>\n",
       "    <tr>\n",
       "      <th>145</th>\n",
       "      <td>6.7</td>\n",
       "      <td>3.0</td>\n",
       "      <td>5.2</td>\n",
       "      <td>2.3</td>\n",
       "      <td>2</td>\n",
       "    </tr>\n",
       "    <tr>\n",
       "      <th>146</th>\n",
       "      <td>6.3</td>\n",
       "      <td>2.5</td>\n",
       "      <td>5.0</td>\n",
       "      <td>1.9</td>\n",
       "      <td>2</td>\n",
       "    </tr>\n",
       "    <tr>\n",
       "      <th>147</th>\n",
       "      <td>6.5</td>\n",
       "      <td>3.0</td>\n",
       "      <td>5.2</td>\n",
       "      <td>2.0</td>\n",
       "      <td>2</td>\n",
       "    </tr>\n",
       "    <tr>\n",
       "      <th>148</th>\n",
       "      <td>6.2</td>\n",
       "      <td>3.4</td>\n",
       "      <td>5.4</td>\n",
       "      <td>2.3</td>\n",
       "      <td>2</td>\n",
       "    </tr>\n",
       "    <tr>\n",
       "      <th>149</th>\n",
       "      <td>5.9</td>\n",
       "      <td>3.0</td>\n",
       "      <td>5.1</td>\n",
       "      <td>1.8</td>\n",
       "      <td>2</td>\n",
       "    </tr>\n",
       "  </tbody>\n",
       "</table>\n",
       "<p>150 rows × 5 columns</p>\n",
       "</div>"
      ],
      "text/plain": [
       "     sepal_length  sepal_width  petal_length  petal_width  species\n",
       "0             5.1          3.5           1.4          0.2        0\n",
       "1             4.9          3.0           1.4          0.2        0\n",
       "2             4.7          3.2           1.3          0.2        0\n",
       "3             4.6          3.1           1.5          0.2        0\n",
       "4             5.0          3.6           1.4          0.2        0\n",
       "..            ...          ...           ...          ...      ...\n",
       "145           6.7          3.0           5.2          2.3        2\n",
       "146           6.3          2.5           5.0          1.9        2\n",
       "147           6.5          3.0           5.2          2.0        2\n",
       "148           6.2          3.4           5.4          2.3        2\n",
       "149           5.9          3.0           5.1          1.8        2\n",
       "\n",
       "[150 rows x 5 columns]"
      ]
     },
     "execution_count": 60,
     "metadata": {},
     "output_type": "execute_result"
    }
   ],
   "source": [
    "my_df['species'] = my_df['species'].replace('setosa',0)\n",
    "my_df['species'] = my_df['species'].replace('versicolor',1)\n",
    "my_df['species'] = my_df['species'].replace('virginica',2)\n",
    "\n",
    "my_df"
   ]
  },
  {
   "cell_type": "code",
   "execution_count": 61,
   "id": "9be4cad4-271b-4a64-8646-4d8f0f4300c9",
   "metadata": {},
   "outputs": [
    {
     "data": {
      "text/plain": [
       "(array([[5.1, 3.5, 1.4, 0.2],\n",
       "        [4.9, 3. , 1.4, 0.2],\n",
       "        [4.7, 3.2, 1.3, 0.2],\n",
       "        [4.6, 3.1, 1.5, 0.2],\n",
       "        [5. , 3.6, 1.4, 0.2],\n",
       "        [5.4, 3.9, 1.7, 0.4],\n",
       "        [4.6, 3.4, 1.4, 0.3],\n",
       "        [5. , 3.4, 1.5, 0.2],\n",
       "        [4.4, 2.9, 1.4, 0.2],\n",
       "        [4.9, 3.1, 1.5, 0.1],\n",
       "        [5.4, 3.7, 1.5, 0.2],\n",
       "        [4.8, 3.4, 1.6, 0.2],\n",
       "        [4.8, 3. , 1.4, 0.1],\n",
       "        [4.3, 3. , 1.1, 0.1],\n",
       "        [5.8, 4. , 1.2, 0.2],\n",
       "        [5.7, 4.4, 1.5, 0.4],\n",
       "        [5.4, 3.9, 1.3, 0.4],\n",
       "        [5.1, 3.5, 1.4, 0.3],\n",
       "        [5.7, 3.8, 1.7, 0.3],\n",
       "        [5.1, 3.8, 1.5, 0.3],\n",
       "        [5.4, 3.4, 1.7, 0.2],\n",
       "        [5.1, 3.7, 1.5, 0.4],\n",
       "        [4.6, 3.6, 1. , 0.2],\n",
       "        [5.1, 3.3, 1.7, 0.5],\n",
       "        [4.8, 3.4, 1.9, 0.2],\n",
       "        [5. , 3. , 1.6, 0.2],\n",
       "        [5. , 3.4, 1.6, 0.4],\n",
       "        [5.2, 3.5, 1.5, 0.2],\n",
       "        [5.2, 3.4, 1.4, 0.2],\n",
       "        [4.7, 3.2, 1.6, 0.2],\n",
       "        [4.8, 3.1, 1.6, 0.2],\n",
       "        [5.4, 3.4, 1.5, 0.4],\n",
       "        [5.2, 4.1, 1.5, 0.1],\n",
       "        [5.5, 4.2, 1.4, 0.2],\n",
       "        [4.9, 3.1, 1.5, 0.1],\n",
       "        [5. , 3.2, 1.2, 0.2],\n",
       "        [5.5, 3.5, 1.3, 0.2],\n",
       "        [4.9, 3.1, 1.5, 0.1],\n",
       "        [4.4, 3. , 1.3, 0.2],\n",
       "        [5.1, 3.4, 1.5, 0.2],\n",
       "        [5. , 3.5, 1.3, 0.3],\n",
       "        [4.5, 2.3, 1.3, 0.3],\n",
       "        [4.4, 3.2, 1.3, 0.2],\n",
       "        [5. , 3.5, 1.6, 0.6],\n",
       "        [5.1, 3.8, 1.9, 0.4],\n",
       "        [4.8, 3. , 1.4, 0.3],\n",
       "        [5.1, 3.8, 1.6, 0.2],\n",
       "        [4.6, 3.2, 1.4, 0.2],\n",
       "        [5.3, 3.7, 1.5, 0.2],\n",
       "        [5. , 3.3, 1.4, 0.2],\n",
       "        [7. , 3.2, 4.7, 1.4],\n",
       "        [6.4, 3.2, 4.5, 1.5],\n",
       "        [6.9, 3.1, 4.9, 1.5],\n",
       "        [5.5, 2.3, 4. , 1.3],\n",
       "        [6.5, 2.8, 4.6, 1.5],\n",
       "        [5.7, 2.8, 4.5, 1.3],\n",
       "        [6.3, 3.3, 4.7, 1.6],\n",
       "        [4.9, 2.4, 3.3, 1. ],\n",
       "        [6.6, 2.9, 4.6, 1.3],\n",
       "        [5.2, 2.7, 3.9, 1.4],\n",
       "        [5. , 2. , 3.5, 1. ],\n",
       "        [5.9, 3. , 4.2, 1.5],\n",
       "        [6. , 2.2, 4. , 1. ],\n",
       "        [6.1, 2.9, 4.7, 1.4],\n",
       "        [5.6, 2.9, 3.6, 1.3],\n",
       "        [6.7, 3.1, 4.4, 1.4],\n",
       "        [5.6, 3. , 4.5, 1.5],\n",
       "        [5.8, 2.7, 4.1, 1. ],\n",
       "        [6.2, 2.2, 4.5, 1.5],\n",
       "        [5.6, 2.5, 3.9, 1.1],\n",
       "        [5.9, 3.2, 4.8, 1.8],\n",
       "        [6.1, 2.8, 4. , 1.3],\n",
       "        [6.3, 2.5, 4.9, 1.5],\n",
       "        [6.1, 2.8, 4.7, 1.2],\n",
       "        [6.4, 2.9, 4.3, 1.3],\n",
       "        [6.6, 3. , 4.4, 1.4],\n",
       "        [6.8, 2.8, 4.8, 1.4],\n",
       "        [6.7, 3. , 5. , 1.7],\n",
       "        [6. , 2.9, 4.5, 1.5],\n",
       "        [5.7, 2.6, 3.5, 1. ],\n",
       "        [5.5, 2.4, 3.8, 1.1],\n",
       "        [5.5, 2.4, 3.7, 1. ],\n",
       "        [5.8, 2.7, 3.9, 1.2],\n",
       "        [6. , 2.7, 5.1, 1.6],\n",
       "        [5.4, 3. , 4.5, 1.5],\n",
       "        [6. , 3.4, 4.5, 1.6],\n",
       "        [6.7, 3.1, 4.7, 1.5],\n",
       "        [6.3, 2.3, 4.4, 1.3],\n",
       "        [5.6, 3. , 4.1, 1.3],\n",
       "        [5.5, 2.5, 4. , 1.3],\n",
       "        [5.5, 2.6, 4.4, 1.2],\n",
       "        [6.1, 3. , 4.6, 1.4],\n",
       "        [5.8, 2.6, 4. , 1.2],\n",
       "        [5. , 2.3, 3.3, 1. ],\n",
       "        [5.6, 2.7, 4.2, 1.3],\n",
       "        [5.7, 3. , 4.2, 1.2],\n",
       "        [5.7, 2.9, 4.2, 1.3],\n",
       "        [6.2, 2.9, 4.3, 1.3],\n",
       "        [5.1, 2.5, 3. , 1.1],\n",
       "        [5.7, 2.8, 4.1, 1.3],\n",
       "        [6.3, 3.3, 6. , 2.5],\n",
       "        [5.8, 2.7, 5.1, 1.9],\n",
       "        [7.1, 3. , 5.9, 2.1],\n",
       "        [6.3, 2.9, 5.6, 1.8],\n",
       "        [6.5, 3. , 5.8, 2.2],\n",
       "        [7.6, 3. , 6.6, 2.1],\n",
       "        [4.9, 2.5, 4.5, 1.7],\n",
       "        [7.3, 2.9, 6.3, 1.8],\n",
       "        [6.7, 2.5, 5.8, 1.8],\n",
       "        [7.2, 3.6, 6.1, 2.5],\n",
       "        [6.5, 3.2, 5.1, 2. ],\n",
       "        [6.4, 2.7, 5.3, 1.9],\n",
       "        [6.8, 3. , 5.5, 2.1],\n",
       "        [5.7, 2.5, 5. , 2. ],\n",
       "        [5.8, 2.8, 5.1, 2.4],\n",
       "        [6.4, 3.2, 5.3, 2.3],\n",
       "        [6.5, 3. , 5.5, 1.8],\n",
       "        [7.7, 3.8, 6.7, 2.2],\n",
       "        [7.7, 2.6, 6.9, 2.3],\n",
       "        [6. , 2.2, 5. , 1.5],\n",
       "        [6.9, 3.2, 5.7, 2.3],\n",
       "        [5.6, 2.8, 4.9, 2. ],\n",
       "        [7.7, 2.8, 6.7, 2. ],\n",
       "        [6.3, 2.7, 4.9, 1.8],\n",
       "        [6.7, 3.3, 5.7, 2.1],\n",
       "        [7.2, 3.2, 6. , 1.8],\n",
       "        [6.2, 2.8, 4.8, 1.8],\n",
       "        [6.1, 3. , 4.9, 1.8],\n",
       "        [6.4, 2.8, 5.6, 2.1],\n",
       "        [7.2, 3. , 5.8, 1.6],\n",
       "        [7.4, 2.8, 6.1, 1.9],\n",
       "        [7.9, 3.8, 6.4, 2. ],\n",
       "        [6.4, 2.8, 5.6, 2.2],\n",
       "        [6.3, 2.8, 5.1, 1.5],\n",
       "        [6.1, 2.6, 5.6, 1.4],\n",
       "        [7.7, 3. , 6.1, 2.3],\n",
       "        [6.3, 3.4, 5.6, 2.4],\n",
       "        [6.4, 3.1, 5.5, 1.8],\n",
       "        [6. , 3. , 4.8, 1.8],\n",
       "        [6.9, 3.1, 5.4, 2.1],\n",
       "        [6.7, 3.1, 5.6, 2.4],\n",
       "        [6.9, 3.1, 5.1, 2.3],\n",
       "        [5.8, 2.7, 5.1, 1.9],\n",
       "        [6.8, 3.2, 5.9, 2.3],\n",
       "        [6.7, 3.3, 5.7, 2.5],\n",
       "        [6.7, 3. , 5.2, 2.3],\n",
       "        [6.3, 2.5, 5. , 1.9],\n",
       "        [6.5, 3. , 5.2, 2. ],\n",
       "        [6.2, 3.4, 5.4, 2.3],\n",
       "        [5.9, 3. , 5.1, 1.8]]),\n",
       " array([0, 0, 0, 0, 0, 0, 0, 0, 0, 0, 0, 0, 0, 0, 0, 0, 0, 0, 0, 0, 0, 0,\n",
       "        0, 0, 0, 0, 0, 0, 0, 0, 0, 0, 0, 0, 0, 0, 0, 0, 0, 0, 0, 0, 0, 0,\n",
       "        0, 0, 0, 0, 0, 0, 1, 1, 1, 1, 1, 1, 1, 1, 1, 1, 1, 1, 1, 1, 1, 1,\n",
       "        1, 1, 1, 1, 1, 1, 1, 1, 1, 1, 1, 1, 1, 1, 1, 1, 1, 1, 1, 1, 1, 1,\n",
       "        1, 1, 1, 1, 1, 1, 1, 1, 1, 1, 1, 1, 2, 2, 2, 2, 2, 2, 2, 2, 2, 2,\n",
       "        2, 2, 2, 2, 2, 2, 2, 2, 2, 2, 2, 2, 2, 2, 2, 2, 2, 2, 2, 2, 2, 2,\n",
       "        2, 2, 2, 2, 2, 2, 2, 2, 2, 2, 2, 2, 2, 2, 2, 2, 2, 2]))"
      ]
     },
     "execution_count": 61,
     "metadata": {},
     "output_type": "execute_result"
    }
   ],
   "source": [
    "#Train test split\n",
    "x = my_df.drop('species', axis=1)\n",
    "y = my_df['species']\n",
    "x = x.values\n",
    "y = y.values\n",
    "x,y"
   ]
  },
  {
   "cell_type": "code",
   "execution_count": 62,
   "id": "fb404c7a-b5c1-4515-aa59-f5b62be6e0f2",
   "metadata": {},
   "outputs": [],
   "source": [
    "from sklearn.model_selection import train_test_split\n",
    "\n",
    "x_train, x_test, y_train, y_test = train_test_split(x,y, test_size=0.2, random_state=41)"
   ]
  },
  {
   "cell_type": "code",
   "execution_count": 63,
   "id": "bcbe99a6-984b-49c6-944f-4eeb2fc0041c",
   "metadata": {},
   "outputs": [
    {
     "data": {
      "text/plain": [
       "(tensor([[5.7000, 2.6000, 3.5000, 1.0000],\n",
       "         [6.5000, 2.8000, 4.6000, 1.5000],\n",
       "         [4.9000, 2.5000, 4.5000, 1.7000],\n",
       "         [5.5000, 2.6000, 4.4000, 1.2000],\n",
       "         [6.7000, 3.0000, 5.2000, 2.3000],\n",
       "         [5.8000, 4.0000, 1.2000, 0.2000],\n",
       "         [6.9000, 3.1000, 5.1000, 2.3000],\n",
       "         [6.4000, 3.2000, 4.5000, 1.5000],\n",
       "         [6.9000, 3.1000, 5.4000, 2.1000],\n",
       "         [5.9000, 3.2000, 4.8000, 1.8000],\n",
       "         [6.2000, 2.9000, 4.3000, 1.3000],\n",
       "         [5.7000, 2.8000, 4.5000, 1.3000],\n",
       "         [5.2000, 4.1000, 1.5000, 0.1000],\n",
       "         [6.5000, 3.0000, 5.8000, 2.2000],\n",
       "         [6.3000, 3.4000, 5.6000, 2.4000],\n",
       "         [5.7000, 3.8000, 1.7000, 0.3000],\n",
       "         [6.7000, 2.5000, 5.8000, 1.8000],\n",
       "         [5.1000, 2.5000, 3.0000, 1.1000],\n",
       "         [4.8000, 3.0000, 1.4000, 0.3000],\n",
       "         [6.2000, 2.2000, 4.5000, 1.5000],\n",
       "         [6.4000, 2.7000, 5.3000, 1.9000],\n",
       "         [5.8000, 2.7000, 3.9000, 1.2000],\n",
       "         [7.4000, 2.8000, 6.1000, 1.9000],\n",
       "         [5.2000, 3.5000, 1.5000, 0.2000],\n",
       "         [5.5000, 4.2000, 1.4000, 0.2000],\n",
       "         [5.9000, 3.0000, 5.1000, 1.8000],\n",
       "         [6.2000, 2.8000, 4.8000, 1.8000],\n",
       "         [4.6000, 3.1000, 1.5000, 0.2000],\n",
       "         [5.6000, 3.0000, 4.5000, 1.5000],\n",
       "         [4.6000, 3.4000, 1.4000, 0.3000],\n",
       "         [4.9000, 3.1000, 1.5000, 0.1000],\n",
       "         [6.6000, 3.0000, 4.4000, 1.4000],\n",
       "         [5.4000, 3.9000, 1.3000, 0.4000],\n",
       "         [4.9000, 2.4000, 3.3000, 1.0000],\n",
       "         [6.2000, 3.4000, 5.4000, 2.3000],\n",
       "         [5.0000, 3.0000, 1.6000, 0.2000],\n",
       "         [6.3000, 2.3000, 4.4000, 1.3000],\n",
       "         [5.7000, 2.8000, 4.1000, 1.3000],\n",
       "         [5.6000, 2.8000, 4.9000, 2.0000],\n",
       "         [5.1000, 3.5000, 1.4000, 0.2000],\n",
       "         [5.7000, 2.9000, 4.2000, 1.3000],\n",
       "         [5.0000, 2.0000, 3.5000, 1.0000],\n",
       "         [4.8000, 3.4000, 1.9000, 0.2000],\n",
       "         [7.7000, 2.6000, 6.9000, 2.3000],\n",
       "         [6.3000, 2.5000, 4.9000, 1.5000],\n",
       "         [5.1000, 3.5000, 1.4000, 0.3000],\n",
       "         [6.5000, 3.0000, 5.5000, 1.8000],\n",
       "         [6.3000, 2.5000, 5.0000, 1.9000],\n",
       "         [4.4000, 3.2000, 1.3000, 0.2000],\n",
       "         [6.7000, 3.0000, 5.0000, 1.7000],\n",
       "         [5.4000, 3.7000, 1.5000, 0.2000],\n",
       "         [5.0000, 3.5000, 1.3000, 0.3000],\n",
       "         [6.7000, 3.3000, 5.7000, 2.1000],\n",
       "         [7.7000, 3.8000, 6.7000, 2.2000],\n",
       "         [5.7000, 2.5000, 5.0000, 2.0000],\n",
       "         [4.6000, 3.2000, 1.4000, 0.2000],\n",
       "         [4.7000, 3.2000, 1.6000, 0.2000],\n",
       "         [5.0000, 3.4000, 1.5000, 0.2000],\n",
       "         [4.8000, 3.4000, 1.6000, 0.2000],\n",
       "         [5.3000, 3.7000, 1.5000, 0.2000],\n",
       "         [6.1000, 2.6000, 5.6000, 1.4000],\n",
       "         [6.0000, 3.0000, 4.8000, 1.8000],\n",
       "         [5.5000, 3.5000, 1.3000, 0.2000],\n",
       "         [7.2000, 3.2000, 6.0000, 1.8000],\n",
       "         [7.0000, 3.2000, 4.7000, 1.4000],\n",
       "         [5.7000, 4.4000, 1.5000, 0.4000],\n",
       "         [4.3000, 3.0000, 1.1000, 0.1000],\n",
       "         [6.5000, 3.2000, 5.1000, 2.0000],\n",
       "         [5.8000, 2.7000, 5.1000, 1.9000],\n",
       "         [6.4000, 3.2000, 5.3000, 2.3000],\n",
       "         [6.1000, 2.8000, 4.7000, 1.2000],\n",
       "         [6.0000, 2.9000, 4.5000, 1.5000],\n",
       "         [5.8000, 2.7000, 5.1000, 1.9000],\n",
       "         [4.9000, 3.0000, 1.4000, 0.2000],\n",
       "         [6.6000, 2.9000, 4.6000, 1.3000],\n",
       "         [7.1000, 3.0000, 5.9000, 2.1000],\n",
       "         [6.4000, 2.9000, 4.3000, 1.3000],\n",
       "         [6.9000, 3.1000, 4.9000, 1.5000],\n",
       "         [4.4000, 2.9000, 1.4000, 0.2000],\n",
       "         [5.7000, 3.0000, 4.2000, 1.2000],\n",
       "         [5.1000, 3.7000, 1.5000, 0.4000],\n",
       "         [5.9000, 3.0000, 4.2000, 1.5000],\n",
       "         [5.4000, 3.4000, 1.5000, 0.4000],\n",
       "         [5.6000, 2.7000, 4.2000, 1.3000],\n",
       "         [7.3000, 2.9000, 6.3000, 1.8000],\n",
       "         [6.3000, 3.3000, 6.0000, 2.5000],\n",
       "         [6.7000, 3.3000, 5.7000, 2.5000],\n",
       "         [5.1000, 3.8000, 1.6000, 0.2000],\n",
       "         [4.9000, 3.1000, 1.5000, 0.1000],\n",
       "         [4.6000, 3.6000, 1.0000, 0.2000],\n",
       "         [5.1000, 3.8000, 1.9000, 0.4000],\n",
       "         [6.3000, 2.9000, 5.6000, 1.8000],\n",
       "         [5.4000, 3.9000, 1.7000, 0.4000],\n",
       "         [5.4000, 3.4000, 1.7000, 0.2000],\n",
       "         [5.6000, 2.5000, 3.9000, 1.1000],\n",
       "         [6.4000, 2.8000, 5.6000, 2.2000],\n",
       "         [5.0000, 3.2000, 1.2000, 0.2000],\n",
       "         [5.8000, 2.8000, 5.1000, 2.4000],\n",
       "         [4.8000, 3.0000, 1.4000, 0.1000],\n",
       "         [6.8000, 2.8000, 4.8000, 1.4000],\n",
       "         [7.2000, 3.0000, 5.8000, 1.6000],\n",
       "         [5.2000, 2.7000, 3.9000, 1.4000],\n",
       "         [5.0000, 3.6000, 1.4000, 0.2000],\n",
       "         [6.4000, 3.1000, 5.5000, 1.8000],\n",
       "         [5.1000, 3.8000, 1.5000, 0.3000],\n",
       "         [5.5000, 2.3000, 4.0000, 1.3000],\n",
       "         [5.2000, 3.4000, 1.4000, 0.2000],\n",
       "         [7.7000, 2.8000, 6.7000, 2.0000],\n",
       "         [5.8000, 2.6000, 4.0000, 1.2000],\n",
       "         [5.6000, 3.0000, 4.1000, 1.3000],\n",
       "         [7.6000, 3.0000, 6.6000, 2.1000],\n",
       "         [6.7000, 3.1000, 4.7000, 1.5000],\n",
       "         [5.4000, 3.0000, 4.5000, 1.5000],\n",
       "         [7.9000, 3.8000, 6.4000, 2.0000],\n",
       "         [7.2000, 3.6000, 6.1000, 2.5000],\n",
       "         [5.0000, 3.4000, 1.6000, 0.4000],\n",
       "         [5.5000, 2.5000, 4.0000, 1.3000],\n",
       "         [6.7000, 3.1000, 4.4000, 1.4000],\n",
       "         [5.5000, 2.4000, 3.8000, 1.1000],\n",
       "         [6.7000, 3.1000, 5.6000, 2.4000]]),\n",
       " tensor([[6.0000, 2.2000, 5.0000, 1.5000],\n",
       "         [6.4000, 2.8000, 5.6000, 2.1000],\n",
       "         [7.7000, 3.0000, 6.1000, 2.3000],\n",
       "         [6.1000, 3.0000, 4.6000, 1.4000],\n",
       "         [6.8000, 3.0000, 5.5000, 2.1000],\n",
       "         [6.1000, 2.8000, 4.0000, 1.3000],\n",
       "         [6.3000, 2.7000, 4.9000, 1.8000],\n",
       "         [6.0000, 3.4000, 4.5000, 1.6000],\n",
       "         [6.5000, 3.0000, 5.2000, 2.0000],\n",
       "         [6.8000, 3.2000, 5.9000, 2.3000],\n",
       "         [6.1000, 3.0000, 4.9000, 1.8000],\n",
       "         [5.1000, 3.4000, 1.5000, 0.2000],\n",
       "         [4.4000, 3.0000, 1.3000, 0.2000],\n",
       "         [5.0000, 2.3000, 3.3000, 1.0000],\n",
       "         [5.1000, 3.3000, 1.7000, 0.5000],\n",
       "         [6.3000, 2.8000, 5.1000, 1.5000],\n",
       "         [4.8000, 3.1000, 1.6000, 0.2000],\n",
       "         [6.0000, 2.7000, 5.1000, 1.6000],\n",
       "         [4.9000, 3.1000, 1.5000, 0.1000],\n",
       "         [4.5000, 2.3000, 1.3000, 0.3000],\n",
       "         [5.5000, 2.4000, 3.7000, 1.0000],\n",
       "         [6.9000, 3.2000, 5.7000, 2.3000],\n",
       "         [5.0000, 3.5000, 1.6000, 0.6000],\n",
       "         [4.7000, 3.2000, 1.3000, 0.2000],\n",
       "         [5.6000, 2.9000, 3.6000, 1.3000],\n",
       "         [6.0000, 2.2000, 4.0000, 1.0000],\n",
       "         [6.3000, 3.3000, 4.7000, 1.6000],\n",
       "         [5.8000, 2.7000, 4.1000, 1.0000],\n",
       "         [5.0000, 3.3000, 1.4000, 0.2000],\n",
       "         [6.1000, 2.9000, 4.7000, 1.4000]]))"
      ]
     },
     "execution_count": 63,
     "metadata": {},
     "output_type": "execute_result"
    }
   ],
   "source": [
    "x_train = torch.FloatTensor(x_train)\n",
    "x_test = torch.FloatTensor(x_test)\n",
    "x_train, x_test"
   ]
  },
  {
   "cell_type": "code",
   "execution_count": 64,
   "id": "83c5b163-45b5-40a7-b33d-97061ab618bd",
   "metadata": {},
   "outputs": [
    {
     "data": {
      "text/plain": [
       "(tensor([1, 1, 2, 1, 2, 0, 2, 1, 2, 1, 1, 1, 0, 2, 2, 0, 2, 1, 0, 1, 2, 1, 2, 0,\n",
       "         0, 2, 2, 0, 1, 0, 0, 1, 0, 1, 2, 0, 1, 1, 2, 0, 1, 1, 0, 2, 1, 0, 2, 2,\n",
       "         0, 1, 0, 0, 2, 2, 2, 0, 0, 0, 0, 0, 2, 2, 0, 2, 1, 0, 0, 2, 2, 2, 1, 1,\n",
       "         2, 0, 1, 2, 1, 1, 0, 1, 0, 1, 0, 1, 2, 2, 2, 0, 0, 0, 0, 2, 0, 0, 1, 2,\n",
       "         0, 2, 0, 1, 2, 1, 0, 2, 0, 1, 0, 2, 1, 1, 2, 1, 1, 2, 2, 0, 1, 1, 1, 2]),\n",
       " tensor([2, 2, 2, 1, 2, 1, 2, 1, 2, 2, 2, 0, 0, 1, 0, 2, 0, 1, 0, 0, 1, 2, 0, 0,\n",
       "         1, 1, 1, 1, 0, 1]))"
      ]
     },
     "execution_count": 64,
     "metadata": {},
     "output_type": "execute_result"
    }
   ],
   "source": [
    "y_train = torch.LongTensor(y_train)\n",
    "y_test = torch.LongTensor(y_test)\n",
    "y_train, y_test"
   ]
  },
  {
   "cell_type": "code",
   "execution_count": 68,
   "id": "f18bbe21-d72a-4939-b9c4-6bb45d4416d8",
   "metadata": {},
   "outputs": [],
   "source": [
    "# measure error\n",
    "loss_function = nn.CrossEntropyLoss()\n",
    "# Adam optimizer, learning_rate\n",
    "optimizer = torch.optim.Adam(model.parameters(), lr=0.01)"
   ]
  },
  {
   "cell_type": "code",
   "execution_count": 74,
   "id": "3ca6b75f-987e-4b68-824d-906ebddf2458",
   "metadata": {},
   "outputs": [
    {
     "name": "stdout",
     "output_type": "stream",
     "text": [
      "Epoch: 0 and loss: 1.1145514249801636\n",
      "Epoch: 10 and loss: 0.8762577176094055\n",
      "Epoch: 20 and loss: 0.5591720342636108\n",
      "Epoch: 30 and loss: 0.4078424870967865\n",
      "Epoch: 40 and loss: 0.3235296308994293\n",
      "Epoch: 50 and loss: 0.20978395640850067\n",
      "Epoch: 60 and loss: 0.11317721754312515\n",
      "Epoch: 70 and loss: 0.06799598038196564\n",
      "Epoch: 80 and loss: 0.04859676584601402\n",
      "Epoch: 90 and loss: 0.03953542932868004\n"
     ]
    }
   ],
   "source": [
    "# Train our model\n",
    "epochs = 100\n",
    "losses = []\n",
    "for i in range (epochs):\n",
    "    # Go forward and get prediction\n",
    "    y_pred = model.forward(x_train) # get predicted results\n",
    "\n",
    "    #calculate loss \n",
    "    loss = loss_function(y_pred,y_train)\n",
    "\n",
    "    losses.append(loss.detach().numpy())\n",
    "\n",
    "    ##print\n",
    "    if i % 10 == 0:\n",
    "        print(f'Epoch: {i} and loss: {loss}')\n",
    "\n",
    "    # Do some backpropagation\n",
    "    optimizer.zero_grad()\n",
    "    loss.backward()\n",
    "    optimizer.step()\n",
    "    "
   ]
  },
  {
   "cell_type": "code",
   "execution_count": 76,
   "id": "0c7ba390-2398-430e-a58c-da81ed9119ee",
   "metadata": {},
   "outputs": [
    {
     "data": {
      "text/plain": [
       "[<matplotlib.lines.Line2D at 0x1aa8efcdd10>]"
      ]
     },
     "execution_count": 76,
     "metadata": {},
     "output_type": "execute_result"
    },
    {
     "data": {
      "image/png": "[encoded data removed]",
      "text/plain": [
       "<Figure size 640x480 with 1 Axes>"
      ]
     },
     "metadata": {},
     "output_type": "display_data"
    }
   ],
   "source": [
    "plt.plot(range(epochs),losses)"
   ]
  },
  {
   "cell_type": "code",
   "execution_count": 77,
   "id": "f5caabfc-c2da-4ecd-a739-1a3bb5085a6b",
   "metadata": {},
   "outputs": [],
   "source": [
    "# Evaludate Model on Test Data Set\n",
    "with torch.no_grad():\n",
    "    y_eval = model.forward(x_test)\n",
    "    loss = loss_function(y_eval,y_test)"
   ]
  },
  {
   "cell_type": "code",
   "execution_count": 78,
   "id": "649cddb3-b4e8-4832-b676-1d3b9d3944f8",
   "metadata": {},
   "outputs": [
    {
     "data": {
      "text/plain": [
       "tensor(0.1381)"
      ]
     },
     "execution_count": 78,
     "metadata": {},
     "output_type": "execute_result"
    }
   ],
   "source": [
    "loss"
   ]
  },
  {
   "cell_type": "code",
   "execution_count": 95,
   "id": "6a17c6d2-b3f2-4933-8b4b-18cb36b261d1",
   "metadata": {},
   "outputs": [
    {
     "name": "stdout",
     "output_type": "stream",
     "text": [
      "We have got 28 correct!\n"
     ]
    }
   ],
   "source": [
    "correct = 0\n",
    "with torch.no_grad():\n",
    "    for i, data in enumerate(x_test):\n",
    "        y_val = model(data)\n",
    "\n",
    "        #print(f'{i+1}.) {str(y_val)} \\t {y_test[i]}')\n",
    "\n",
    "        if y_val.argmax().item() == y_test[i]:\n",
    "            correct+=1\n",
    "\n",
    "print(f'We have got {correct} correct!')"
   ]
  },
  {
   "cell_type": "code",
   "execution_count": 99,
   "id": "674d78a3-d11e-4de0-ad2c-e5b6247c9fc4",
   "metadata": {},
   "outputs": [],
   "source": [
    "new_iris = torch.tensor([5.6000, 3.0000, 4.1000, 1.3000])"
   ]
  },
  {
   "cell_type": "code",
   "execution_count": 100,
   "id": "2c59a63e-5084-400b-99b5-82fb6af92e79",
   "metadata": {},
   "outputs": [
    {
     "name": "stdout",
     "output_type": "stream",
     "text": [
      "tensor(1)\n"
     ]
    }
   ],
   "source": [
    "with torch.no_grad():\n",
    "    print(model.forward(new_iris).argmax())"
   ]
  },
  {
   "cell_type": "code",
   "execution_count": 101,
   "id": "97424bfb-7641-415d-8a47-5f4fa6d05438",
   "metadata": {},
   "outputs": [],
   "source": [
    "# save our NN model\n",
    "torch.save(model.state_dict(), 'My_NN.pt')"
   ]
  },
  {
   "cell_type": "code",
   "execution_count": 103,
   "id": "1bd66a3d-c7dd-4065-9992-78ed6d2476eb",
   "metadata": {},
   "outputs": [
    {
     "data": {
      "text/plain": [
       "<All keys matched successfully>"
      ]
     },
     "execution_count": 103,
     "metadata": {},
     "output_type": "execute_result"
    }
   ],
   "source": [
    "# load saved model\n",
    "\n",
    "new_model = Model()\n",
    "new_model.load_state_dict(torch.load('My_NN.pt'))"
   ]
  },
  {
   "cell_type": "code",
   "execution_count": 104,
   "id": "3a8af3ab-c405-4ce2-ab43-53d51bd4de0c",
   "metadata": {},
   "outputs": [
    {
     "data": {
      "text/plain": [
       "Model(\n",
       "  (fc1): Linear(in_features=4, out_features=8, bias=True)\n",
       "  (fc2): Linear(in_features=8, out_features=9, bias=True)\n",
       "  (out): Linear(in_features=9, out_features=3, bias=True)\n",
       ")"
      ]
     },
     "execution_count": 104,
     "metadata": {},
     "output_type": "execute_result"
    }
   ],
   "source": [
    "new_model.eval()"
   ]
  },
  {
   "cell_type": "code",
   "execution_count": 105,
   "id": "26741936-3ac4-4fa2-934b-bddf3af377da",
   "metadata": {},
   "outputs": [
    {
     "name": "stdout",
     "output_type": "stream",
     "text": [
      "Parameter containing:\n",
      "tensor([[ 0.5068, -0.1925,  0.4405,  1.1132],\n",
      "        [-0.5883, -0.0695,  0.8693,  1.0409],\n",
      "        [-0.3412,  0.1535, -0.4516, -0.2578],\n",
      "        [ 0.2841,  0.8439, -0.2534, -0.1353],\n",
      "        [ 0.0625, -0.4663,  0.9474,  0.2594],\n",
      "        [-0.1538, -0.1301,  0.1995, -0.2146],\n",
      "        [-0.2835,  0.1316,  0.9459,  0.9678],\n",
      "        [ 0.8758,  0.4000, -0.5613, -1.0958]], requires_grad=True)\n"
     ]
    }
   ],
   "source": [
    "print(new_model.fc1.weight)"
   ]
  },
  {
   "cell_type": "code",
   "execution_count": null,
   "id": "9352c5da-3bcc-4d5f-9c39-7b452e1f78d1",
   "metadata": {},
   "outputs": [],
   "source": []
  }
 ],
 "metadata": {
  "kernelspec": {
   "display_name": "Python [conda env:base] *",
   "language": "python",
   "name": "conda-base-py"
  },
  "language_info": {
   "codemirror_mode": {
    "name": "ipython",
    "version": 3
   },
   "file_extension": ".py",
   "mimetype": "text/x-python",
   "name": "python",
   "nbconvert_exporter": "python",
   "pygments_lexer": "ipython3",
   "version": "3.13.5"
  }
 },
 "nbformat": 4,
 "nbformat_minor": 5
}
